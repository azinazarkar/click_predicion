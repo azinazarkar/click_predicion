{
 "cells": [
  {
   "cell_type": "code",
   "execution_count": 1,
   "metadata": {},
   "outputs": [],
   "source": [
    "import pandas as pd\n",
    "import numpy as np\n",
    "from datetime import datetime\n",
    "from sklearn.preprocessing import LabelEncoder , normalize\n",
    "from sklearn.neighbors import KNeighborsClassifier\n",
    "from sklearn.model_selection import cross_val_score\n",
    "from sklearn import metrics\n",
    "from sklearn.preprocessing import StandardScaler\n",
    "from sklearn.svm import SVC\n",
    "from sklearn import linear_model\n",
    "from sklearn.feature_selection import SelectKBest, chi2\n",
    "from sklearn.model_selection import train_test_split\n",
    "from sklearn.metrics import classification_report\n",
    "from sklearn.tree import DecisionTreeClassifier\n",
    "from sklearn.ensemble import RandomForestClassifier\n",
    "from sklearn.model_selection import GridSearchCV\n",
    "from sklearn import tree\n",
    "from imblearn.over_sampling import SMOTE"
   ]
  },
  {
   "cell_type": "code",
   "execution_count": 42,
   "metadata": {},
   "outputs": [],
   "source": [
    "train = pd.read_csv(\"click_data_train_sample_2.csv\" , index_col=[0])"
   ]
  },
  {
   "cell_type": "code",
   "execution_count": 44,
   "metadata": {},
   "outputs": [
    {
     "data": {
      "text/html": [
       "<div>\n",
       "<style scoped>\n",
       "    .dataframe tbody tr th:only-of-type {\n",
       "        vertical-align: middle;\n",
       "    }\n",
       "\n",
       "    .dataframe tbody tr th {\n",
       "        vertical-align: top;\n",
       "    }\n",
       "\n",
       "    .dataframe thead th {\n",
       "        text-align: right;\n",
       "    }\n",
       "</style>\n",
       "<table border=\"1\" class=\"dataframe\">\n",
       "  <thead>\n",
       "    <tr style=\"text-align: right;\">\n",
       "      <th></th>\n",
       "      <th>display_id</th>\n",
       "      <th>ad_id</th>\n",
       "      <th>clicked</th>\n",
       "      <th>uuid</th>\n",
       "      <th>document_id_x</th>\n",
       "      <th>timestamp</th>\n",
       "      <th>platform</th>\n",
       "      <th>geo_location</th>\n",
       "      <th>source_id</th>\n",
       "      <th>publisher_id</th>\n",
       "      <th>publish_time</th>\n",
       "      <th>document_id_y</th>\n",
       "      <th>campaign_id</th>\n",
       "      <th>advertiser_id</th>\n",
       "    </tr>\n",
       "  </thead>\n",
       "  <tbody>\n",
       "    <tr>\n",
       "      <th>0</th>\n",
       "      <td>2</td>\n",
       "      <td>125211</td>\n",
       "      <td>0</td>\n",
       "      <td>79a85fa78311b9</td>\n",
       "      <td>1794259</td>\n",
       "      <td>81</td>\n",
       "      <td>2</td>\n",
       "      <td>US&gt;CA&gt;807</td>\n",
       "      <td>93.0</td>\n",
       "      <td>407.0</td>\n",
       "      <td>2016-06-14 00:00:00</td>\n",
       "      <td>876083</td>\n",
       "      <td>16054</td>\n",
       "      <td>772</td>\n",
       "    </tr>\n",
       "    <tr>\n",
       "      <th>1</th>\n",
       "      <td>2</td>\n",
       "      <td>156535</td>\n",
       "      <td>0</td>\n",
       "      <td>79a85fa78311b9</td>\n",
       "      <td>1794259</td>\n",
       "      <td>81</td>\n",
       "      <td>2</td>\n",
       "      <td>US&gt;CA&gt;807</td>\n",
       "      <td>93.0</td>\n",
       "      <td>407.0</td>\n",
       "      <td>2016-06-14 00:00:00</td>\n",
       "      <td>630534</td>\n",
       "      <td>16636</td>\n",
       "      <td>380</td>\n",
       "    </tr>\n",
       "    <tr>\n",
       "      <th>2</th>\n",
       "      <td>2</td>\n",
       "      <td>169564</td>\n",
       "      <td>0</td>\n",
       "      <td>79a85fa78311b9</td>\n",
       "      <td>1794259</td>\n",
       "      <td>81</td>\n",
       "      <td>2</td>\n",
       "      <td>US&gt;CA&gt;807</td>\n",
       "      <td>93.0</td>\n",
       "      <td>407.0</td>\n",
       "      <td>2016-06-14 00:00:00</td>\n",
       "      <td>1394819</td>\n",
       "      <td>20109</td>\n",
       "      <td>640</td>\n",
       "    </tr>\n",
       "    <tr>\n",
       "      <th>3</th>\n",
       "      <td>37</td>\n",
       "      <td>169564</td>\n",
       "      <td>0</td>\n",
       "      <td>d4f62cdcb39ad8</td>\n",
       "      <td>1779285</td>\n",
       "      <td>2687</td>\n",
       "      <td>2</td>\n",
       "      <td>US&gt;WA&gt;819</td>\n",
       "      <td>93.0</td>\n",
       "      <td>407.0</td>\n",
       "      <td>2016-06-13 17:00:00</td>\n",
       "      <td>1394819</td>\n",
       "      <td>20109</td>\n",
       "      <td>640</td>\n",
       "    </tr>\n",
       "    <tr>\n",
       "      <th>4</th>\n",
       "      <td>1743</td>\n",
       "      <td>169564</td>\n",
       "      <td>0</td>\n",
       "      <td>70e5221764a830</td>\n",
       "      <td>1777537</td>\n",
       "      <td>121119</td>\n",
       "      <td>2</td>\n",
       "      <td>US&gt;CA&gt;862</td>\n",
       "      <td>93.0</td>\n",
       "      <td>407.0</td>\n",
       "      <td>2016-06-13 17:00:00</td>\n",
       "      <td>1394819</td>\n",
       "      <td>20109</td>\n",
       "      <td>640</td>\n",
       "    </tr>\n",
       "  </tbody>\n",
       "</table>\n",
       "</div>"
      ],
      "text/plain": [
       "   display_id   ad_id  clicked            uuid  document_id_x  timestamp  \\\n",
       "0           2  125211        0  79a85fa78311b9        1794259         81   \n",
       "1           2  156535        0  79a85fa78311b9        1794259         81   \n",
       "2           2  169564        0  79a85fa78311b9        1794259         81   \n",
       "3          37  169564        0  d4f62cdcb39ad8        1779285       2687   \n",
       "4        1743  169564        0  70e5221764a830        1777537     121119   \n",
       "\n",
       "   platform geo_location  source_id  publisher_id         publish_time  \\\n",
       "0         2    US>CA>807       93.0         407.0  2016-06-14 00:00:00   \n",
       "1         2    US>CA>807       93.0         407.0  2016-06-14 00:00:00   \n",
       "2         2    US>CA>807       93.0         407.0  2016-06-14 00:00:00   \n",
       "3         2    US>WA>819       93.0         407.0  2016-06-13 17:00:00   \n",
       "4         2    US>CA>862       93.0         407.0  2016-06-13 17:00:00   \n",
       "\n",
       "   document_id_y  campaign_id  advertiser_id  \n",
       "0         876083        16054            772  \n",
       "1         630534        16636            380  \n",
       "2        1394819        20109            640  \n",
       "3        1394819        20109            640  \n",
       "4        1394819        20109            640  "
      ]
     },
     "execution_count": 44,
     "metadata": {},
     "output_type": "execute_result"
    }
   ],
   "source": [
    "train.head()"
   ]
  },
  {
   "cell_type": "code",
   "execution_count": 45,
   "metadata": {},
   "outputs": [
    {
     "data": {
      "text/plain": [
       "display_id       0\n",
       "ad_id            0\n",
       "clicked          0\n",
       "uuid             0\n",
       "document_id_x    0\n",
       "timestamp        0\n",
       "platform         0\n",
       "geo_location     0\n",
       "source_id        0\n",
       "publisher_id     0\n",
       "publish_time     0\n",
       "document_id_y    0\n",
       "campaign_id      0\n",
       "advertiser_id    0\n",
       "dtype: int64"
      ]
     },
     "execution_count": 45,
     "metadata": {},
     "output_type": "execute_result"
    }
   ],
   "source": [
    "train.isna().sum()"
   ]
  },
  {
   "cell_type": "code",
   "execution_count": 46,
   "metadata": {},
   "outputs": [
    {
     "data": {
      "text/plain": [
       "0    6885\n",
       "1    1656\n",
       "Name: clicked, dtype: int64"
      ]
     },
     "execution_count": 46,
     "metadata": {},
     "output_type": "execute_result"
    }
   ],
   "source": [
    "train[\"clicked\"].value_counts()"
   ]
  },
  {
   "cell_type": "code",
   "execution_count": 47,
   "metadata": {},
   "outputs": [],
   "source": [
    "# is_NaN = train.isnull()\n",
    "# row_has_NaN = is_NaN.any(axis=1)\n",
    "# df[row_has_NaN]"
   ]
  },
  {
   "cell_type": "code",
   "execution_count": 48,
   "metadata": {},
   "outputs": [],
   "source": [
    "def add_timestamp (row):\n",
    "    return datetime.timestamp(datetime.strptime(str(row[\"publish_time\"]) , '%Y-%m-%d %H:%M:%S'))"
   ]
  },
  {
   "cell_type": "code",
   "execution_count": 49,
   "metadata": {},
   "outputs": [],
   "source": [
    "def get_country (row , le) :\n",
    "    country = str(row[\"geo_location\"]).split('>')[0]\n",
    "    inp = list()\n",
    "    inp.append(country)\n",
    "    return le.transform(inp)[0]"
   ]
  },
  {
   "cell_type": "code",
   "execution_count": 9,
   "metadata": {},
   "outputs": [],
   "source": [
    "def get_state (row):\n",
    "    geos = str(row[\"geo_location\"]).split('>')\n",
    "    if len(geos) == 1 :\n",
    "        geos.append(np.nan)\n",
    "    return geos[1]"
   ]
  },
  {
   "cell_type": "code",
   "execution_count": 10,
   "metadata": {},
   "outputs": [],
   "source": [
    "def get_categorical_uuid (row , le):\n",
    "    inp = list()\n",
    "    inp.append(row[\"uuid\"])\n",
    "    return le.transform(inp)[0]"
   ]
  },
  {
   "cell_type": "code",
   "execution_count": 11,
   "metadata": {},
   "outputs": [],
   "source": [
    "def add_new_features (df):\n",
    "    '''\n",
    "    this function adds extra features to our dataset the features are as follows :\n",
    "    1) doc_timestamp : publish time of the document \n",
    "    2) country : the country of where the user is clicking in the ad \n",
    "    3) state : the state of where the user is clicking in the ad\n",
    "    4) uuid_c : the number that the uuid was mapped to \n",
    "    '''\n",
    "    df[\"doc_timestamp\"] = df.apply(add_timestamp , axis = 1)\n",
    "    \n",
    "    # creating label encoder for mapping each country to a number \n",
    "    vals = train.apply(lambda row : str(row[\"geo_location\"]).split('>')[0] , axis = 1)\n",
    "    le_country = LabelEncoder()\n",
    "    u_vals_country = vals.unique() \n",
    "    le_country.fit(u_vals_country)\n",
    "    df[\"country\"] = df.apply(lambda row : get_country(row , le_country) , axis = 1)\n",
    "    \n",
    "    # deleted for now\n",
    "    #df[\"state\"] = df.apply(get_state , axis = 1)\n",
    "    \n",
    "    #creating categorical encoder in order to map each uuid to a class number \n",
    "    le_uuid = LabelEncoder()\n",
    "    u_vals_uuid = df[\"uuid\"].unique() \n",
    "    le_uuid.fit(u_vals_uuid)\n",
    "    df[\"uuid_c\"] = df.apply(lambda row : get_categorical_uuid(row , le_uuid) , axis = 1)\n",
    "    return df"
   ]
  },
  {
   "cell_type": "code",
   "execution_count": 76,
   "metadata": {},
   "outputs": [],
   "source": [
    "def clean_dataframe (df):\n",
    "    cols_to_remove = [\"publish_time\" , \"geo_location\" , \"uuid\"]\n",
    "    df = df.drop(cols_to_remove , axis = 1)\n",
    "    X = df.drop(\"clicked\" ,  axis = 1)\n",
    "    y = df[\"clicked\"]\n",
    "    X_norm = normalize(X)\n",
    "    return X , y "
   ]
  },
  {
   "cell_type": "code",
   "execution_count": 87,
   "metadata": {},
   "outputs": [],
   "source": [
    "df = add_new_features(train)"
   ]
  },
  {
   "cell_type": "code",
   "execution_count": 140,
   "metadata": {},
   "outputs": [],
   "source": [
    "X , y = clean_dataframe(df)"
   ]
  },
  {
   "cell_type": "code",
   "execution_count": 52,
   "metadata": {},
   "outputs": [],
   "source": [
    "# X.head()"
   ]
  },
  {
   "cell_type": "code",
   "execution_count": 169,
   "metadata": {},
   "outputs": [],
   "source": [
    "X_new = SelectKBest(chi2, k=4).fit_transform(X, y)"
   ]
  },
  {
   "cell_type": "code",
   "execution_count": 170,
   "metadata": {},
   "outputs": [],
   "source": [
    "X_train, X_test, y_train, y_test = train_test_split(X_new, y, test_size=0.33, random_state=42)"
   ]
  },
  {
   "cell_type": "code",
   "execution_count": 158,
   "metadata": {},
   "outputs": [],
   "source": [
    "class_weight = {1 : 10 , \n",
    "                0 : 1}"
   ]
  },
  {
   "cell_type": "code",
   "execution_count": 145,
   "metadata": {},
   "outputs": [],
   "source": [
    "# oversample = SMOTE()\n",
    "# X_ov, y_ov = oversample.fit_resample(X_train, y_train)"
   ]
  },
  {
   "cell_type": "code",
   "execution_count": 159,
   "metadata": {},
   "outputs": [],
   "source": [
    "param_grid = {'criterion':['gini','entropy'],\n",
    "              'max_depth': np.arange(3, 15) \n",
    "             }"
   ]
  },
  {
   "cell_type": "code",
   "execution_count": 160,
   "metadata": {},
   "outputs": [],
   "source": [
    "model = GridSearchCV(DecisionTreeClassifier(class_weight = class_weight), param_grid)"
   ]
  },
  {
   "cell_type": "code",
   "execution_count": 152,
   "metadata": {},
   "outputs": [],
   "source": [
    "# model = tree.DecisionTreeClassifier()"
   ]
  },
  {
   "cell_type": "code",
   "execution_count": 171,
   "metadata": {},
   "outputs": [
    {
     "data": {
      "text/plain": [
       "GridSearchCV(cv=None, error_score=nan,\n",
       "             estimator=DecisionTreeClassifier(ccp_alpha=0.0,\n",
       "                                              class_weight={0: 1, 1: 10},\n",
       "                                              criterion='gini', max_depth=None,\n",
       "                                              max_features=None,\n",
       "                                              max_leaf_nodes=None,\n",
       "                                              min_impurity_decrease=0.0,\n",
       "                                              min_impurity_split=None,\n",
       "                                              min_samples_leaf=1,\n",
       "                                              min_samples_split=2,\n",
       "                                              min_weight_fraction_leaf=0.0,\n",
       "                                              presort='deprecated',\n",
       "                                              random_state=None,\n",
       "                                              splitter='best'),\n",
       "             iid='deprecated', n_jobs=None,\n",
       "             param_grid={'criterion': ['gini', 'entropy'],\n",
       "                         'max_depth': array([ 3,  4,  5,  6,  7,  8,  9, 10, 11, 12, 13, 14])},\n",
       "             pre_dispatch='2*n_jobs', refit=True, return_train_score=False,\n",
       "             scoring=None, verbose=0)"
      ]
     },
     "execution_count": 171,
     "metadata": {},
     "output_type": "execute_result"
    }
   ],
   "source": [
    "model.fit(X_train, y_train)"
   ]
  },
  {
   "cell_type": "code",
   "execution_count": 172,
   "metadata": {},
   "outputs": [],
   "source": [
    "y_pred = model.predict(X_test)"
   ]
  },
  {
   "cell_type": "code",
   "execution_count": 173,
   "metadata": {},
   "outputs": [
    {
     "name": "stdout",
     "output_type": "stream",
     "text": [
      "              precision    recall  f1-score   support\n",
      "\n",
      "           0       0.85      0.30      0.44      2291\n",
      "           1       0.20      0.77      0.32       528\n",
      "\n",
      "    accuracy                           0.39      2819\n",
      "   macro avg       0.52      0.53      0.38      2819\n",
      "weighted avg       0.73      0.39      0.42      2819\n",
      "\n"
     ]
    }
   ],
   "source": [
    "print(classification_report(y_test, y_pred))"
   ]
  },
  {
   "cell_type": "code",
   "execution_count": 62,
   "metadata": {},
   "outputs": [
    {
     "data": {
      "text/plain": [
       "0.46744439629984574"
      ]
     },
     "execution_count": 62,
     "metadata": {},
     "output_type": "execute_result"
    }
   ],
   "source": [
    "metrics.f1_score(y_test, y_pred, average='weighted', labels=np.unique(y_pred))"
   ]
  },
  {
   "cell_type": "code",
   "execution_count": null,
   "metadata": {},
   "outputs": [],
   "source": []
  },
  {
   "cell_type": "code",
   "execution_count": null,
   "metadata": {},
   "outputs": [],
   "source": []
  },
  {
   "cell_type": "code",
   "execution_count": null,
   "metadata": {},
   "outputs": [],
   "source": []
  },
  {
   "cell_type": "code",
   "execution_count": null,
   "metadata": {},
   "outputs": [],
   "source": []
  },
  {
   "cell_type": "code",
   "execution_count": null,
   "metadata": {},
   "outputs": [],
   "source": []
  }
 ],
 "metadata": {
  "kernelspec": {
   "display_name": "Python 3",
   "language": "python",
   "name": "python3"
  },
  "language_info": {
   "codemirror_mode": {
    "name": "ipython",
    "version": 3
   },
   "file_extension": ".py",
   "mimetype": "text/x-python",
   "name": "python",
   "nbconvert_exporter": "python",
   "pygments_lexer": "ipython3",
   "version": "3.7.6"
  }
 },
 "nbformat": 4,
 "nbformat_minor": 4
}
