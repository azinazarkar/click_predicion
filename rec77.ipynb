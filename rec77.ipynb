{
 "cells": [
  {
   "cell_type": "code",
   "execution_count": 1,
   "metadata": {},
   "outputs": [],
   "source": [
    "import pandas as pd\n",
    "import numpy as np\n",
    "from datetime import datetime\n",
    "from sklearn.preprocessing import LabelEncoder , normalize\n",
    "from sklearn.neighbors import KNeighborsClassifier\n",
    "from sklearn.model_selection import cross_val_score\n",
    "from sklearn import metrics\n",
    "from sklearn.preprocessing import StandardScaler\n",
    "from sklearn.svm import SVC\n",
    "from sklearn import linear_model\n",
    "from sklearn.feature_selection import SelectKBest, chi2\n",
    "from sklearn.model_selection import train_test_split\n",
    "from sklearn.metrics import classification_report\n",
    "from sklearn.tree import DecisionTreeClassifier\n",
    "from sklearn.ensemble import RandomForestClassifier\n",
    "from sklearn.model_selection import GridSearchCV\n",
    "from sklearn import tree\n",
    "from imblearn.over_sampling import SMOTE\n",
    "from sklearn.metrics import roc_curve\n",
    "from matplotlib import pyplot\n",
    "from scipy import stats\n",
    "from imblearn.under_sampling import NearMiss"
   ]
  },
  {
   "cell_type": "code",
   "execution_count": 52,
   "metadata": {},
   "outputs": [],
   "source": [
    "train1 = pd.read_csv(\"click_data_train_1.csv\" , index_col=[0])"
   ]
  },
  {
   "cell_type": "code",
   "execution_count": 92,
   "metadata": {},
   "outputs": [],
   "source": [
    "train3 = pd.read_csv(\"click_data_train_3.csv\" , index_col=[0])"
   ]
  },
  {
   "cell_type": "code",
   "execution_count": 59,
   "metadata": {},
   "outputs": [
    {
     "data": {
      "text/html": [
       "<div>\n",
       "<style scoped>\n",
       "    .dataframe tbody tr th:only-of-type {\n",
       "        vertical-align: middle;\n",
       "    }\n",
       "\n",
       "    .dataframe tbody tr th {\n",
       "        vertical-align: top;\n",
       "    }\n",
       "\n",
       "    .dataframe thead th {\n",
       "        text-align: right;\n",
       "    }\n",
       "</style>\n",
       "<table border=\"1\" class=\"dataframe\">\n",
       "  <thead>\n",
       "    <tr style=\"text-align: right;\">\n",
       "      <th></th>\n",
       "      <th>display_id</th>\n",
       "      <th>ad_id</th>\n",
       "      <th>clicked</th>\n",
       "      <th>uuid</th>\n",
       "      <th>document_id_x</th>\n",
       "      <th>timestamp</th>\n",
       "      <th>platform</th>\n",
       "      <th>geo_location</th>\n",
       "      <th>source_id</th>\n",
       "      <th>publisher_id</th>\n",
       "      <th>publish_time</th>\n",
       "      <th>document_id_y</th>\n",
       "      <th>campaign_id</th>\n",
       "      <th>advertiser_id</th>\n",
       "    </tr>\n",
       "  </thead>\n",
       "  <tbody>\n",
       "    <tr>\n",
       "      <th>0</th>\n",
       "      <td>2</td>\n",
       "      <td>125211</td>\n",
       "      <td>0</td>\n",
       "      <td>79a85fa78311b9</td>\n",
       "      <td>1794259</td>\n",
       "      <td>81</td>\n",
       "      <td>2</td>\n",
       "      <td>US&gt;CA&gt;807</td>\n",
       "      <td>93.0</td>\n",
       "      <td>407.0</td>\n",
       "      <td>2016-06-14 00:00:00</td>\n",
       "      <td>876083</td>\n",
       "      <td>16054</td>\n",
       "      <td>772</td>\n",
       "    </tr>\n",
       "    <tr>\n",
       "      <th>1</th>\n",
       "      <td>7109</td>\n",
       "      <td>125211</td>\n",
       "      <td>1</td>\n",
       "      <td>e0f0e15a32b74c</td>\n",
       "      <td>1767119</td>\n",
       "      <td>488035</td>\n",
       "      <td>2</td>\n",
       "      <td>US&gt;AL&gt;698</td>\n",
       "      <td>8548.0</td>\n",
       "      <td>435.0</td>\n",
       "      <td>2016-06-13 13:00:00</td>\n",
       "      <td>876083</td>\n",
       "      <td>16054</td>\n",
       "      <td>772</td>\n",
       "    </tr>\n",
       "    <tr>\n",
       "      <th>2</th>\n",
       "      <td>2</td>\n",
       "      <td>156535</td>\n",
       "      <td>0</td>\n",
       "      <td>79a85fa78311b9</td>\n",
       "      <td>1794259</td>\n",
       "      <td>81</td>\n",
       "      <td>2</td>\n",
       "      <td>US&gt;CA&gt;807</td>\n",
       "      <td>93.0</td>\n",
       "      <td>407.0</td>\n",
       "      <td>2016-06-14 00:00:00</td>\n",
       "      <td>630534</td>\n",
       "      <td>16636</td>\n",
       "      <td>380</td>\n",
       "    </tr>\n",
       "    <tr>\n",
       "      <th>3</th>\n",
       "      <td>2</td>\n",
       "      <td>169564</td>\n",
       "      <td>0</td>\n",
       "      <td>79a85fa78311b9</td>\n",
       "      <td>1794259</td>\n",
       "      <td>81</td>\n",
       "      <td>2</td>\n",
       "      <td>US&gt;CA&gt;807</td>\n",
       "      <td>93.0</td>\n",
       "      <td>407.0</td>\n",
       "      <td>2016-06-14 00:00:00</td>\n",
       "      <td>1394819</td>\n",
       "      <td>20109</td>\n",
       "      <td>640</td>\n",
       "    </tr>\n",
       "    <tr>\n",
       "      <th>4</th>\n",
       "      <td>37</td>\n",
       "      <td>169564</td>\n",
       "      <td>0</td>\n",
       "      <td>d4f62cdcb39ad8</td>\n",
       "      <td>1779285</td>\n",
       "      <td>2687</td>\n",
       "      <td>2</td>\n",
       "      <td>US&gt;WA&gt;819</td>\n",
       "      <td>93.0</td>\n",
       "      <td>407.0</td>\n",
       "      <td>2016-06-13 17:00:00</td>\n",
       "      <td>1394819</td>\n",
       "      <td>20109</td>\n",
       "      <td>640</td>\n",
       "    </tr>\n",
       "  </tbody>\n",
       "</table>\n",
       "</div>"
      ],
      "text/plain": [
       "   display_id   ad_id  clicked            uuid  document_id_x  timestamp  \\\n",
       "0           2  125211        0  79a85fa78311b9        1794259         81   \n",
       "1        7109  125211        1  e0f0e15a32b74c        1767119     488035   \n",
       "2           2  156535        0  79a85fa78311b9        1794259         81   \n",
       "3           2  169564        0  79a85fa78311b9        1794259         81   \n",
       "4          37  169564        0  d4f62cdcb39ad8        1779285       2687   \n",
       "\n",
       "   platform geo_location  source_id  publisher_id         publish_time  \\\n",
       "0         2    US>CA>807       93.0         407.0  2016-06-14 00:00:00   \n",
       "1         2    US>AL>698     8548.0         435.0  2016-06-13 13:00:00   \n",
       "2         2    US>CA>807       93.0         407.0  2016-06-14 00:00:00   \n",
       "3         2    US>CA>807       93.0         407.0  2016-06-14 00:00:00   \n",
       "4         2    US>WA>819       93.0         407.0  2016-06-13 17:00:00   \n",
       "\n",
       "   document_id_y  campaign_id  advertiser_id  \n",
       "0         876083        16054            772  \n",
       "1         876083        16054            772  \n",
       "2         630534        16636            380  \n",
       "3        1394819        20109            640  \n",
       "4        1394819        20109            640  "
      ]
     },
     "execution_count": 59,
     "metadata": {},
     "output_type": "execute_result"
    }
   ],
   "source": [
    "train1.head()"
   ]
  },
  {
   "cell_type": "code",
   "execution_count": 60,
   "metadata": {},
   "outputs": [
    {
     "data": {
      "text/html": [
       "<div>\n",
       "<style scoped>\n",
       "    .dataframe tbody tr th:only-of-type {\n",
       "        vertical-align: middle;\n",
       "    }\n",
       "\n",
       "    .dataframe tbody tr th {\n",
       "        vertical-align: top;\n",
       "    }\n",
       "\n",
       "    .dataframe thead th {\n",
       "        text-align: right;\n",
       "    }\n",
       "</style>\n",
       "<table border=\"1\" class=\"dataframe\">\n",
       "  <thead>\n",
       "    <tr style=\"text-align: right;\">\n",
       "      <th></th>\n",
       "      <th>display_id</th>\n",
       "      <th>ad_id</th>\n",
       "      <th>clicked</th>\n",
       "      <th>uuid</th>\n",
       "      <th>document_id_x</th>\n",
       "      <th>timestamp</th>\n",
       "      <th>platform</th>\n",
       "      <th>geo_location</th>\n",
       "      <th>source_id</th>\n",
       "      <th>publisher_id</th>\n",
       "      <th>publish_time</th>\n",
       "      <th>document_id_y</th>\n",
       "      <th>campaign_id</th>\n",
       "      <th>advertiser_id</th>\n",
       "    </tr>\n",
       "  </thead>\n",
       "  <tbody>\n",
       "    <tr>\n",
       "      <th>0</th>\n",
       "      <td>9797</td>\n",
       "      <td>162994</td>\n",
       "      <td>0</td>\n",
       "      <td>1b32fdf96bc27a</td>\n",
       "      <td>964380</td>\n",
       "      <td>678426</td>\n",
       "      <td>2</td>\n",
       "      <td>US&gt;MN&gt;613</td>\n",
       "      <td>7031.0</td>\n",
       "      <td>637.0</td>\n",
       "      <td>2014-07-18 00:00:00</td>\n",
       "      <td>1408591</td>\n",
       "      <td>20413</td>\n",
       "      <td>1031</td>\n",
       "    </tr>\n",
       "    <tr>\n",
       "      <th>1</th>\n",
       "      <td>10545</td>\n",
       "      <td>162994</td>\n",
       "      <td>0</td>\n",
       "      <td>929f71c502d117</td>\n",
       "      <td>868169</td>\n",
       "      <td>731504</td>\n",
       "      <td>2</td>\n",
       "      <td>US&gt;KY&gt;529</td>\n",
       "      <td>9777.0</td>\n",
       "      <td>167.0</td>\n",
       "      <td>2015-09-25 14:00:00</td>\n",
       "      <td>1408591</td>\n",
       "      <td>20413</td>\n",
       "      <td>1031</td>\n",
       "    </tr>\n",
       "    <tr>\n",
       "      <th>2</th>\n",
       "      <td>11414</td>\n",
       "      <td>162994</td>\n",
       "      <td>0</td>\n",
       "      <td>b7876d42c7229f</td>\n",
       "      <td>868169</td>\n",
       "      <td>792228</td>\n",
       "      <td>2</td>\n",
       "      <td>US&gt;TX&gt;633</td>\n",
       "      <td>9777.0</td>\n",
       "      <td>167.0</td>\n",
       "      <td>2015-09-25 14:00:00</td>\n",
       "      <td>1408591</td>\n",
       "      <td>20413</td>\n",
       "      <td>1031</td>\n",
       "    </tr>\n",
       "    <tr>\n",
       "      <th>3</th>\n",
       "      <td>11981</td>\n",
       "      <td>162994</td>\n",
       "      <td>1</td>\n",
       "      <td>a6a85025b3a76f</td>\n",
       "      <td>868169</td>\n",
       "      <td>836012</td>\n",
       "      <td>2</td>\n",
       "      <td>US&gt;TX&gt;623</td>\n",
       "      <td>9777.0</td>\n",
       "      <td>167.0</td>\n",
       "      <td>2015-09-25 14:00:00</td>\n",
       "      <td>1408591</td>\n",
       "      <td>20413</td>\n",
       "      <td>1031</td>\n",
       "    </tr>\n",
       "    <tr>\n",
       "      <th>4</th>\n",
       "      <td>9995</td>\n",
       "      <td>162994</td>\n",
       "      <td>0</td>\n",
       "      <td>72fcce3631e574</td>\n",
       "      <td>1373190</td>\n",
       "      <td>690803</td>\n",
       "      <td>2</td>\n",
       "      <td>US&gt;MD&gt;511</td>\n",
       "      <td>2902.0</td>\n",
       "      <td>56.0</td>\n",
       "      <td>2016-05-01 00:00:00</td>\n",
       "      <td>1408591</td>\n",
       "      <td>20413</td>\n",
       "      <td>1031</td>\n",
       "    </tr>\n",
       "  </tbody>\n",
       "</table>\n",
       "</div>"
      ],
      "text/plain": [
       "   display_id   ad_id  clicked            uuid  document_id_x  timestamp  \\\n",
       "0        9797  162994        0  1b32fdf96bc27a         964380     678426   \n",
       "1       10545  162994        0  929f71c502d117         868169     731504   \n",
       "2       11414  162994        0  b7876d42c7229f         868169     792228   \n",
       "3       11981  162994        1  a6a85025b3a76f         868169     836012   \n",
       "4        9995  162994        0  72fcce3631e574        1373190     690803   \n",
       "\n",
       "   platform geo_location  source_id  publisher_id         publish_time  \\\n",
       "0         2    US>MN>613     7031.0         637.0  2014-07-18 00:00:00   \n",
       "1         2    US>KY>529     9777.0         167.0  2015-09-25 14:00:00   \n",
       "2         2    US>TX>633     9777.0         167.0  2015-09-25 14:00:00   \n",
       "3         2    US>TX>623     9777.0         167.0  2015-09-25 14:00:00   \n",
       "4         2    US>MD>511     2902.0          56.0  2016-05-01 00:00:00   \n",
       "\n",
       "   document_id_y  campaign_id  advertiser_id  \n",
       "0        1408591        20413           1031  \n",
       "1        1408591        20413           1031  \n",
       "2        1408591        20413           1031  \n",
       "3        1408591        20413           1031  \n",
       "4        1408591        20413           1031  "
      ]
     },
     "execution_count": 60,
     "metadata": {},
     "output_type": "execute_result"
    }
   ],
   "source": [
    "train2.head()"
   ]
  },
  {
   "cell_type": "code",
   "execution_count": 2,
   "metadata": {},
   "outputs": [],
   "source": [
    "train = pd.read_csv('train_features.csv')"
   ]
  },
  {
   "cell_type": "code",
   "execution_count": 6,
   "metadata": {},
   "outputs": [
    {
     "data": {
      "text/plain": [
       "Unnamed: 0       0\n",
       "display_id       0\n",
       "ad_id            0\n",
       "clicked          0\n",
       "uuid             0\n",
       "document_id_x    0\n",
       "timestamp        0\n",
       "platform         0\n",
       "geo_location     0\n",
       "source_id        0\n",
       "publisher_id     0\n",
       "publish_time     0\n",
       "document_id_y    0\n",
       "campaign_id      0\n",
       "advertiser_id    0\n",
       "doc_timestamp    0\n",
       "country          0\n",
       "uuid_c           0\n",
       "dtype: int64"
      ]
     },
     "execution_count": 6,
     "metadata": {},
     "output_type": "execute_result"
    }
   ],
   "source": [
    "train.isna().sum()"
   ]
  },
  {
   "cell_type": "code",
   "execution_count": 7,
   "metadata": {},
   "outputs": [
    {
     "data": {
      "text/plain": [
       "0    103240\n",
       "1     24629\n",
       "Name: clicked, dtype: int64"
      ]
     },
     "execution_count": 7,
     "metadata": {},
     "output_type": "execute_result"
    }
   ],
   "source": [
    "train[\"clicked\"].value_counts()"
   ]
  },
  {
   "cell_type": "code",
   "execution_count": 8,
   "metadata": {},
   "outputs": [],
   "source": [
    "# is_NaN = train.isnull()\n",
    "# row_has_NaN = is_NaN.any(axis=1)\n",
    "# df[row_has_NaN]"
   ]
  },
  {
   "cell_type": "code",
   "execution_count": 9,
   "metadata": {},
   "outputs": [],
   "source": [
    "def add_timestamp (row):\n",
    "    return datetime.timestamp(datetime.strptime(str(row[\"publish_time\"]) , '%Y-%m-%d %H:%M:%S'))"
   ]
  },
  {
   "cell_type": "code",
   "execution_count": 10,
   "metadata": {},
   "outputs": [],
   "source": [
    "def get_country (row , le) :\n",
    "    country = str(row[\"geo_location\"]).split('>')[0]\n",
    "    inp = list()\n",
    "    inp.append(country)\n",
    "    return le.transform(inp)[0]"
   ]
  },
  {
   "cell_type": "code",
   "execution_count": 11,
   "metadata": {},
   "outputs": [],
   "source": [
    "def get_state (row):\n",
    "    geos = str(row[\"geo_location\"]).split('>')\n",
    "    if len(geos) == 1 :\n",
    "        geos.append(np.nan)\n",
    "    return geos[1]"
   ]
  },
  {
   "cell_type": "code",
   "execution_count": 100,
   "metadata": {},
   "outputs": [],
   "source": [
    "def get_categorical_uuid (row , le):\n",
    "    inp = list()\n",
    "    inp.append(row[\"uuid\"])\n",
    "    return le.transform(inp)[0]"
   ]
  },
  {
   "cell_type": "code",
   "execution_count": 101,
   "metadata": {},
   "outputs": [],
   "source": [
    "def add_new_features (df):\n",
    "    '''\n",
    "    this function adds extra features to our dataset the features are as follows :\n",
    "    1) doc_timestamp : publish time of the document \n",
    "    2) country : the country of where the user is clicking in the ad \n",
    "    3) state : the state of where the user is clicking in the ad\n",
    "    4) uuid_c : the number that the uuid was mapped to \n",
    "    '''\n",
    "    df[\"doc_timestamp\"] = df.apply(add_timestamp , axis = 1)\n",
    "    \n",
    "    # creating label encoder for mapping each country to a number \n",
    "    vals = train.apply(lambda row : str(row[\"geo_location\"]).split('>')[0] , axis = 1)\n",
    "    le_country = LabelEncoder()\n",
    "    u_vals_country = vals.unique() \n",
    "    le_country.fit(u_vals_country)\n",
    "    df[\"country\"] = df.apply(lambda row : get_country(row , le_country) , axis = 1)\n",
    "    \n",
    "    # deleted for now\n",
    "    #df[\"state\"] = df.apply(get_state , axis = 1)\n",
    "    \n",
    "    #creating categorical encoder in order to map each uuid to a class number \n",
    "    le_uuid = LabelEncoder()\n",
    "    u_vals_uuid = df[\"uuid\"].unique() \n",
    "    le_uuid.fit(u_vals_uuid)\n",
    "    df[\"uuid_c\"] = df.apply(lambda row : get_categorical_uuid(row , le_uuid) , axis = 1)\n",
    "    return df"
   ]
  },
  {
   "cell_type": "code",
   "execution_count": 5,
   "metadata": {},
   "outputs": [],
   "source": [
    "def clean_dataframe (df):\n",
    "    #removing columns that are no longer useful\n",
    "    cols_to_remove = [\"publish_time\" , \"geo_location\" , \"uuid\"]\n",
    "    df = df.drop(cols_to_remove , axis = 1)\n",
    "    \n",
    "    #removing outliers \n",
    "    df = df[(np.abs(stats.zscore(df)) < 3).all(axis=1)]\n",
    "    \n",
    "    #splitting the dataframe \n",
    "    X = df.drop(\"clicked\" ,  axis = 1)\n",
    "    y = df[\"clicked\"]\n",
    "    \n",
    "    #normalizing inputs\n",
    "    X_norm = normalize(X)\n",
    "    return X , y "
   ]
  },
  {
   "cell_type": "code",
   "execution_count": 104,
   "metadata": {},
   "outputs": [],
   "source": [
    "# df = add_new_features(train)"
   ]
  },
  {
   "cell_type": "code",
   "execution_count": 3,
   "metadata": {},
   "outputs": [],
   "source": [
    "# df.to_csv(\"train_features.csv\")\n",
    "df = train"
   ]
  },
  {
   "cell_type": "code",
   "execution_count": 6,
   "metadata": {},
   "outputs": [],
   "source": [
    "X , y = clean_dataframe(df)"
   ]
  },
  {
   "cell_type": "code",
   "execution_count": 16,
   "metadata": {},
   "outputs": [],
   "source": [
    "# X.head()"
   ]
  },
  {
   "cell_type": "code",
   "execution_count": 7,
   "metadata": {},
   "outputs": [],
   "source": [
    "X_new = SelectKBest(chi2, k=6).fit_transform(X, y)"
   ]
  },
  {
   "cell_type": "code",
   "execution_count": 8,
   "metadata": {},
   "outputs": [],
   "source": [
    "X_train, X_test, y_train, y_test = train_test_split(X_new, y, test_size=0.33, random_state=42)"
   ]
  },
  {
   "cell_type": "code",
   "execution_count": 9,
   "metadata": {},
   "outputs": [],
   "source": [
    "# oversample = SMOTE()\n",
    "# X_ov, y_ov = oversample.fit_resample(X_train, y_train)"
   ]
  },
  {
   "cell_type": "code",
   "execution_count": 10,
   "metadata": {},
   "outputs": [],
   "source": [
    "# undersample = NearMiss(version=1, n_neighbors=3)\n",
    "# X_uv, y_uv = undersample.fit_resample(X_train, y_train)"
   ]
  },
  {
   "cell_type": "code",
   "execution_count": 13,
   "metadata": {},
   "outputs": [],
   "source": [
    "param_grid = {'criterion':['gini','entropy'],\n",
    "              'max_depth': np.arange(3, 15) \n",
    "             }"
   ]
  },
  {
   "cell_type": "code",
   "execution_count": 14,
   "metadata": {},
   "outputs": [],
   "source": [
    "class_weight = {\n",
    "    1 : 5 , \n",
    "    0 : 1\n",
    "}"
   ]
  },
  {
   "cell_type": "code",
   "execution_count": 15,
   "metadata": {},
   "outputs": [],
   "source": [
    "model = GridSearchCV(DecisionTreeClassifier(class_weight = class_weight), param_grid)"
   ]
  },
  {
   "cell_type": "code",
   "execution_count": 327,
   "metadata": {},
   "outputs": [],
   "source": [
    "# model = tree.DecisionTreeClassifier()"
   ]
  },
  {
   "cell_type": "code",
   "execution_count": 16,
   "metadata": {},
   "outputs": [
    {
     "data": {
      "text/plain": [
       "GridSearchCV(cv=None, error_score=nan,\n",
       "             estimator=DecisionTreeClassifier(ccp_alpha=0.0,\n",
       "                                              class_weight={0: 1, 1: 5},\n",
       "                                              criterion='gini', max_depth=None,\n",
       "                                              max_features=None,\n",
       "                                              max_leaf_nodes=None,\n",
       "                                              min_impurity_decrease=0.0,\n",
       "                                              min_impurity_split=None,\n",
       "                                              min_samples_leaf=1,\n",
       "                                              min_samples_split=2,\n",
       "                                              min_weight_fraction_leaf=0.0,\n",
       "                                              presort='deprecated',\n",
       "                                              random_state=None,\n",
       "                                              splitter='best'),\n",
       "             iid='deprecated', n_jobs=None,\n",
       "             param_grid={'criterion': ['gini', 'entropy'],\n",
       "                         'max_depth': array([ 3,  4,  5,  6,  7,  8,  9, 10, 11, 12, 13, 14])},\n",
       "             pre_dispatch='2*n_jobs', refit=True, return_train_score=False,\n",
       "             scoring=None, verbose=0)"
      ]
     },
     "execution_count": 16,
     "metadata": {},
     "output_type": "execute_result"
    }
   ],
   "source": [
    "model.fit(X_train, y_train)"
   ]
  },
  {
   "cell_type": "code",
   "execution_count": 26,
   "metadata": {},
   "outputs": [],
   "source": [
    "y_pred = model.predict(X_test)"
   ]
  },
  {
   "cell_type": "code",
   "execution_count": null,
   "metadata": {},
   "outputs": [],
   "source": [
    "metrics.roc_auc_score(y_test, y_pred, average='weighted', labels=np.unique(y_pred))"
   ]
  },
  {
   "cell_type": "code",
   "execution_count": 24,
   "metadata": {},
   "outputs": [
    {
     "name": "stdout",
     "output_type": "stream",
     "text": [
      "              precision    recall  f1-score   support\n",
      "\n",
      "           0       0.80      1.00      0.89     32812\n",
      "           1       0.00      0.00      0.00      7998\n",
      "\n",
      "    accuracy                           0.80     40810\n",
      "   macro avg       0.40      0.50      0.45     40810\n",
      "weighted avg       0.65      0.80      0.72     40810\n",
      "\n"
     ]
    },
    {
     "name": "stderr",
     "output_type": "stream",
     "text": [
      "C:\\Users\\Asus\\anaconda3\\lib\\site-packages\\sklearn\\metrics\\_classification.py:1272: UndefinedMetricWarning: Precision and F-score are ill-defined and being set to 0.0 in labels with no predicted samples. Use `zero_division` parameter to control this behavior.\n",
      "  _warn_prf(average, modifier, msg_start, len(result))\n"
     ]
    }
   ],
   "source": [
    "print(classification_report(y_test, y_pred))"
   ]
  },
  {
   "cell_type": "code",
   "execution_count": 25,
   "metadata": {},
   "outputs": [
    {
     "data": {
      "text/plain": [
       "0.5"
      ]
     },
     "execution_count": 25,
     "metadata": {},
     "output_type": "execute_result"
    }
   ],
   "source": [
    "metrics.roc_auc_score(y_test, y_pred, average='weighted', labels=np.unique(y_pred))"
   ]
  },
  {
   "cell_type": "code",
   "execution_count": 314,
   "metadata": {},
   "outputs": [],
   "source": [
    "score = metrics.roc_auc_score(y_test, y_pred)"
   ]
  },
  {
   "cell_type": "code",
   "execution_count": 315,
   "metadata": {},
   "outputs": [],
   "source": [
    "lr_fpr, lr_tpr, _ = roc_curve(y_test, y_pred)"
   ]
  },
  {
   "cell_type": "code",
   "execution_count": 316,
   "metadata": {},
   "outputs": [
    {
     "data": {
      "text/plain": [
       "[<matplotlib.lines.Line2D at 0x2dbd2086f48>]"
      ]
     },
     "execution_count": 316,
     "metadata": {},
     "output_type": "execute_result"
    },
    {
     "data": {
      "image/png": "[encoded data removed]",
      "text/plain": [
       "<Figure size 432x288 with 1 Axes>"
      ]
     },
     "metadata": {
      "needs_background": "light"
     },
     "output_type": "display_data"
    }
   ],
   "source": [
    "pyplot.plot(lr_fpr, lr_tpr, marker='*', label='decision-tree')"
   ]
  },
  {
   "cell_type": "code",
   "execution_count": 20,
   "metadata": {},
   "outputs": [],
   "source": [
    "from sklearn.model_selection import GridSearchCV \n",
    "from sklearn.svm import SVC"
   ]
  },
  {
   "cell_type": "code",
   "execution_count": 21,
   "metadata": {},
   "outputs": [],
   "source": [
    "model = SVC() "
   ]
  },
  {
   "cell_type": "code",
   "execution_count": 22,
   "metadata": {},
   "outputs": [
    {
     "data": {
      "text/plain": [
       "SVC(C=1.0, break_ties=False, cache_size=200, class_weight=None, coef0=0.0,\n",
       "    decision_function_shape='ovr', degree=3, gamma='scale', kernel='rbf',\n",
       "    max_iter=-1, probability=False, random_state=None, shrinking=True,\n",
       "    tol=0.001, verbose=False)"
      ]
     },
     "execution_count": 22,
     "metadata": {},
     "output_type": "execute_result"
    }
   ],
   "source": [
    "model.fit(X_train, y_train)"
   ]
  },
  {
   "cell_type": "code",
   "execution_count": null,
   "metadata": {},
   "outputs": [],
   "source": []
  }
 ],
 "metadata": {
  "kernelspec": {
   "display_name": "Python 3",
   "language": "python",
   "name": "python3"
  },
  "language_info": {
   "codemirror_mode": {
    "name": "ipython",
    "version": 3
   },
   "file_extension": ".py",
   "mimetype": "text/x-python",
   "name": "python",
   "nbconvert_exporter": "python",
   "pygments_lexer": "ipython3",
   "version": "3.7.6"
  }
 },
 "nbformat": 4,
 "nbformat_minor": 4
}
